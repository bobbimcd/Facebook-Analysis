{
 "cells": [
  {
   "attachments": {
    "CA2%20Intro.png": {
     "image/png": "[encoded data removed]"
    }
   },
   "cell_type": "markdown",
   "id": "9fae4107",
   "metadata": {},
   "source": [
    "![CA2%20Intro.png](attachment:CA2%20Intro.png)"
   ]
  },
  {
   "cell_type": "markdown",
   "id": "f81f6f93",
   "metadata": {},
   "source": [
    "# Question 2\n",
    "\n",
    "You are asked to work with the dataset “dataset_Facebook.csv”, which contains information on the\n",
    "Facebook's page of a renowned cosmetics brand that change the owner recently. The name of the\n",
    "company is omitted due to confidentiality issues. You are hired as a consultor to describe the\n",
    "general scenario to the new owners, then you are required to:\n",
    "- Determine the most common hour to create a post on the Facebook page.\n",
    "- Identify the average number of comments, likes, and shares and compare the result.\n",
    "- Calculate the percentage of each post type and indicate the category that has more posts.\n",
    "- Calculate the percentage of posts per month.\n",
    "- It is important to understand the audience to take actions in future. Determine whether there is a\n",
    "significant variation in the lifetime engaged users.\n",
    "- Calculate the number of likes reached by 50% of the sample. Identify the probability of finding up\n",
    "to 15 posts with that number of likes in a sample of 25 posts.\n",
    "- Determine what is the type of post with more interactions.\n",
    "- In average, are there more posts from consumers or consumptions?\n",
    "Prepare an executive summary with the information obtained from the above request "
   ]
  },
  {
   "cell_type": "markdown",
   "id": "2935deca",
   "metadata": {},
   "source": [
    "## Import Libraries and Warning filter"
   ]
  },
  {
   "cell_type": "code",
   "execution_count": 1,
   "id": "dd7b48d5",
   "metadata": {},
   "outputs": [],
   "source": [
    "import pandas as pd\n",
    "import numpy as np\n",
    "import matplotlib.pyplot as plt\n",
    "import seaborn as sns "
   ]
  },
  {
   "cell_type": "code",
   "execution_count": 2,
   "id": "37c75611",
   "metadata": {},
   "outputs": [],
   "source": [
    "import scipy.stats as stats\n",
    "from statsmodels.stats import weightstats"
   ]
  },
  {
   "cell_type": "code",
   "execution_count": 3,
   "id": "27378894",
   "metadata": {},
   "outputs": [],
   "source": [
    "import warnings\n",
    "warnings.filterwarnings('ignore') "
   ]
  },
  {
   "cell_type": "markdown",
   "id": "bd4b5d09",
   "metadata": {},
   "source": [
    "## Facebook data"
   ]
  },
  {
   "cell_type": "code",
   "execution_count": 4,
   "id": "5877b582",
   "metadata": {},
   "outputs": [],
   "source": [
    "dff = pd.read_csv('dataset_Facebook.csv')"
   ]
  },
  {
   "cell_type": "code",
   "execution_count": 5,
   "id": "989981d2",
   "metadata": {},
   "outputs": [
    {
     "data": {
      "text/html": [
       "<div>\n",
       "<style scoped>\n",
       "    .dataframe tbody tr th:only-of-type {\n",
       "        vertical-align: middle;\n",
       "    }\n",
       "\n",
       "    .dataframe tbody tr th {\n",
       "        vertical-align: top;\n",
       "    }\n",
       "\n",
       "    .dataframe thead th {\n",
       "        text-align: right;\n",
       "    }\n",
       "</style>\n",
       "<table border=\"1\" class=\"dataframe\">\n",
       "  <thead>\n",
       "    <tr style=\"text-align: right;\">\n",
       "      <th></th>\n",
       "      <th>Page_total_likes</th>\n",
       "      <th>Type</th>\n",
       "      <th>Category</th>\n",
       "      <th>Post_Month</th>\n",
       "      <th>Post _Weekday</th>\n",
       "      <th>Post_Hour</th>\n",
       "      <th>Paid</th>\n",
       "      <th>Lifetime_Post_Total_Reach</th>\n",
       "      <th>Lifetime _Post_Total_Impressions</th>\n",
       "      <th>Lifetime_Engaged_Users</th>\n",
       "      <th>Lifetime_Post_Consumers</th>\n",
       "      <th>Lifetime_Post_Consumptions</th>\n",
       "      <th>Lifetime_Post_Impressions_by_people_who_have_liked_your_Page</th>\n",
       "      <th>Lifetime_Post_reach_by_people_who_like_your_Page</th>\n",
       "      <th>Lifetime_People_who_have_liked_your_Page_and_engaged_with_your_post</th>\n",
       "      <th>comment</th>\n",
       "      <th>like</th>\n",
       "      <th>share</th>\n",
       "      <th>Total_Interactions</th>\n",
       "    </tr>\n",
       "  </thead>\n",
       "  <tbody>\n",
       "    <tr>\n",
       "      <th>495</th>\n",
       "      <td>85093</td>\n",
       "      <td>Photo</td>\n",
       "      <td>3</td>\n",
       "      <td>1</td>\n",
       "      <td>7</td>\n",
       "      <td>2</td>\n",
       "      <td>0</td>\n",
       "      <td>4684</td>\n",
       "      <td>7536</td>\n",
       "      <td>733</td>\n",
       "      <td>708</td>\n",
       "      <td>985</td>\n",
       "      <td>4750</td>\n",
       "      <td>2876</td>\n",
       "      <td>392</td>\n",
       "      <td>5</td>\n",
       "      <td>53</td>\n",
       "      <td>26</td>\n",
       "      <td>84</td>\n",
       "    </tr>\n",
       "    <tr>\n",
       "      <th>496</th>\n",
       "      <td>81370</td>\n",
       "      <td>Photo</td>\n",
       "      <td>2</td>\n",
       "      <td>1</td>\n",
       "      <td>5</td>\n",
       "      <td>8</td>\n",
       "      <td>0</td>\n",
       "      <td>3480</td>\n",
       "      <td>6229</td>\n",
       "      <td>537</td>\n",
       "      <td>508</td>\n",
       "      <td>687</td>\n",
       "      <td>3961</td>\n",
       "      <td>2104</td>\n",
       "      <td>301</td>\n",
       "      <td>0</td>\n",
       "      <td>53</td>\n",
       "      <td>22</td>\n",
       "      <td>75</td>\n",
       "    </tr>\n",
       "    <tr>\n",
       "      <th>497</th>\n",
       "      <td>81370</td>\n",
       "      <td>Photo</td>\n",
       "      <td>1</td>\n",
       "      <td>1</td>\n",
       "      <td>5</td>\n",
       "      <td>2</td>\n",
       "      <td>0</td>\n",
       "      <td>3778</td>\n",
       "      <td>7216</td>\n",
       "      <td>625</td>\n",
       "      <td>572</td>\n",
       "      <td>795</td>\n",
       "      <td>4742</td>\n",
       "      <td>2388</td>\n",
       "      <td>363</td>\n",
       "      <td>4</td>\n",
       "      <td>93</td>\n",
       "      <td>18</td>\n",
       "      <td>115</td>\n",
       "    </tr>\n",
       "    <tr>\n",
       "      <th>498</th>\n",
       "      <td>81370</td>\n",
       "      <td>Photo</td>\n",
       "      <td>3</td>\n",
       "      <td>1</td>\n",
       "      <td>4</td>\n",
       "      <td>11</td>\n",
       "      <td>0</td>\n",
       "      <td>4156</td>\n",
       "      <td>7564</td>\n",
       "      <td>626</td>\n",
       "      <td>574</td>\n",
       "      <td>832</td>\n",
       "      <td>4534</td>\n",
       "      <td>2452</td>\n",
       "      <td>370</td>\n",
       "      <td>7</td>\n",
       "      <td>91</td>\n",
       "      <td>38</td>\n",
       "      <td>136</td>\n",
       "    </tr>\n",
       "    <tr>\n",
       "      <th>499</th>\n",
       "      <td>81370</td>\n",
       "      <td>Photo</td>\n",
       "      <td>2</td>\n",
       "      <td>1</td>\n",
       "      <td>4</td>\n",
       "      <td>4</td>\n",
       "      <td>0</td>\n",
       "      <td>4188</td>\n",
       "      <td>7292</td>\n",
       "      <td>564</td>\n",
       "      <td>524</td>\n",
       "      <td>743</td>\n",
       "      <td>3861</td>\n",
       "      <td>2200</td>\n",
       "      <td>316</td>\n",
       "      <td>0</td>\n",
       "      <td>91</td>\n",
       "      <td>28</td>\n",
       "      <td>119</td>\n",
       "    </tr>\n",
       "  </tbody>\n",
       "</table>\n",
       "</div>"
      ],
      "text/plain": [
       "     Page_total_likes   Type  Category  Post_Month  Post _Weekday  Post_Hour  \\\n",
       "495             85093  Photo         3           1              7          2   \n",
       "496             81370  Photo         2           1              5          8   \n",
       "497             81370  Photo         1           1              5          2   \n",
       "498             81370  Photo         3           1              4         11   \n",
       "499             81370  Photo         2           1              4          4   \n",
       "\n",
       "     Paid  Lifetime_Post_Total_Reach  Lifetime _Post_Total_Impressions  \\\n",
       "495     0                       4684                              7536   \n",
       "496     0                       3480                              6229   \n",
       "497     0                       3778                              7216   \n",
       "498     0                       4156                              7564   \n",
       "499     0                       4188                              7292   \n",
       "\n",
       "     Lifetime_Engaged_Users  Lifetime_Post_Consumers  \\\n",
       "495                     733                      708   \n",
       "496                     537                      508   \n",
       "497                     625                      572   \n",
       "498                     626                      574   \n",
       "499                     564                      524   \n",
       "\n",
       "     Lifetime_Post_Consumptions  \\\n",
       "495                         985   \n",
       "496                         687   \n",
       "497                         795   \n",
       "498                         832   \n",
       "499                         743   \n",
       "\n",
       "     Lifetime_Post_Impressions_by_people_who_have_liked_your_Page  \\\n",
       "495                                               4750              \n",
       "496                                               3961              \n",
       "497                                               4742              \n",
       "498                                               4534              \n",
       "499                                               3861              \n",
       "\n",
       "     Lifetime_Post_reach_by_people_who_like_your_Page  \\\n",
       "495                                              2876   \n",
       "496                                              2104   \n",
       "497                                              2388   \n",
       "498                                              2452   \n",
       "499                                              2200   \n",
       "\n",
       "     Lifetime_People_who_have_liked_your_Page_and_engaged_with_your_post  \\\n",
       "495                                                392                     \n",
       "496                                                301                     \n",
       "497                                                363                     \n",
       "498                                                370                     \n",
       "499                                                316                     \n",
       "\n",
       "     comment  like  share  Total_Interactions  \n",
       "495        5    53     26                  84  \n",
       "496        0    53     22                  75  \n",
       "497        4    93     18                 115  \n",
       "498        7    91     38                 136  \n",
       "499        0    91     28                 119  "
      ]
     },
     "execution_count": 5,
     "metadata": {},
     "output_type": "execute_result"
    }
   ],
   "source": [
    "dff.tail()"
   ]
  },
  {
   "cell_type": "markdown",
   "id": "d9de67e3",
   "metadata": {},
   "source": [
    "## Question 2.1"
   ]
  },
  {
   "cell_type": "markdown",
   "id": "aa1518cf",
   "metadata": {},
   "source": [
    "**Determine the most common hour to create a post on the Facebook page**"
   ]
  },
  {
   "cell_type": "code",
   "execution_count": 6,
   "id": "eea364d4",
   "metadata": {},
   "outputs": [
    {
     "name": "stdout",
     "output_type": "stream",
     "text": [
      "0    3\n",
      "Name: Post_Hour, dtype: int64\n"
     ]
    }
   ],
   "source": [
    "mode = dff['Post_Hour'].mode()\n",
    "print(mode)"
   ]
  },
  {
   "cell_type": "markdown",
   "id": "a724ed0b",
   "metadata": {},
   "source": [
    "<font color = blue> ANSWER = **3**"
   ]
  },
  {
   "cell_type": "markdown",
   "id": "8d0fe4dc",
   "metadata": {},
   "source": [
    "## Question 2.2"
   ]
  },
  {
   "cell_type": "markdown",
   "id": "68d98708",
   "metadata": {},
   "source": [
    "**Identify the average number of comments, likes, and shares and compare the result**"
   ]
  },
  {
   "cell_type": "code",
   "execution_count": 7,
   "id": "5bda4ade",
   "metadata": {},
   "outputs": [],
   "source": [
    "cols = ['comment', 'like','share']\n",
    "\n",
    "dfmean = dff[cols].mean()"
   ]
  },
  {
   "cell_type": "code",
   "execution_count": 8,
   "id": "7fe91dca",
   "metadata": {
    "scrolled": true
   },
   "outputs": [
    {
     "data": {
      "text/plain": [
       "comment      7.482\n",
       "like       177.990\n",
       "share       27.058\n",
       "dtype: float64"
      ]
     },
     "execution_count": 8,
     "metadata": {},
     "output_type": "execute_result"
    }
   ],
   "source": [
    "dfmean.head()"
   ]
  },
  {
   "cell_type": "code",
   "execution_count": 9,
   "id": "95d89d69",
   "metadata": {
    "scrolled": true
   },
   "outputs": [
    {
     "data": {
      "text/html": [
       "<div>\n",
       "<style scoped>\n",
       "    .dataframe tbody tr th:only-of-type {\n",
       "        vertical-align: middle;\n",
       "    }\n",
       "\n",
       "    .dataframe tbody tr th {\n",
       "        vertical-align: top;\n",
       "    }\n",
       "\n",
       "    .dataframe thead th {\n",
       "        text-align: right;\n",
       "    }\n",
       "</style>\n",
       "<table border=\"1\" class=\"dataframe\">\n",
       "  <thead>\n",
       "    <tr style=\"text-align: right;\">\n",
       "      <th></th>\n",
       "      <th>Socials</th>\n",
       "      <th>Mean</th>\n",
       "    </tr>\n",
       "  </thead>\n",
       "  <tbody>\n",
       "    <tr>\n",
       "      <th>0</th>\n",
       "      <td>comment</td>\n",
       "      <td>7.482</td>\n",
       "    </tr>\n",
       "    <tr>\n",
       "      <th>1</th>\n",
       "      <td>like</td>\n",
       "      <td>117.990</td>\n",
       "    </tr>\n",
       "    <tr>\n",
       "      <th>2</th>\n",
       "      <td>share</td>\n",
       "      <td>27.058</td>\n",
       "    </tr>\n",
       "  </tbody>\n",
       "</table>\n",
       "</div>"
      ],
      "text/plain": [
       "   Socials     Mean\n",
       "0  comment    7.482\n",
       "1     like  117.990\n",
       "2    share   27.058"
      ]
     },
     "execution_count": 9,
     "metadata": {},
     "output_type": "execute_result"
    }
   ],
   "source": [
    "# list of strings\n",
    "lst = ['comment','like','share']\n",
    "  \n",
    "# list of int\n",
    "lst2 = [7.482, 117.990, 27.058,]\n",
    "  \n",
    "# Calling DataFrame constructor after zipping\n",
    "# both lists, with columns specified\n",
    "df = pd.DataFrame(list(zip(lst, lst2)),\n",
    "               columns =['Socials', 'Mean'])\n",
    "df"
   ]
  },
  {
   "cell_type": "code",
   "execution_count": 10,
   "id": "b190dbc4",
   "metadata": {},
   "outputs": [
    {
     "data": {
      "image/png": "[encoded data removed]",
      "text/plain": [
       "<Figure size 500x300 with 1 Axes>"
      ]
     },
     "metadata": {},
     "output_type": "display_data"
    }
   ],
   "source": [
    "\n",
    "from matplotlib import pyplot as plt\n",
    "\n",
    " \n",
    "Socials = df['Socials']\n",
    "Mean = df['Mean']\n",
    " \n",
    "# Figure Size\n",
    "fig = plt.figure(figsize =(5, 3))\n",
    " \n",
    "# Horizontal Bar Plot\n",
    "plt.bar(Socials[0:3], Mean[0:3])\n",
    " \n",
    "# Show Plot\n",
    "plt.show()"
   ]
  },
  {
   "cell_type": "markdown",
   "id": "1eb22d52",
   "metadata": {},
   "source": [
    "<font color = blue> ANSWER   \n",
    "<font color = blue> **No1: Like**  \n",
    "<font color = blue> **No2: Share**  \n",
    "<font color = blue> **No3: Comment**  "
   ]
  },
  {
   "cell_type": "markdown",
   "id": "f7cbe15a",
   "metadata": {},
   "source": [
    "## Question 2.3"
   ]
  },
  {
   "cell_type": "markdown",
   "id": "41b23eba",
   "metadata": {},
   "source": [
    "**Calculate the percentage of each post type and indicate the category that has more posts**"
   ]
  },
  {
   "cell_type": "code",
   "execution_count": 11,
   "id": "5843d817",
   "metadata": {},
   "outputs": [
    {
     "data": {
      "text/plain": [
       "array(['Photo', 'Status', 'Link', 'Video'], dtype=object)"
      ]
     },
     "execution_count": 11,
     "metadata": {},
     "output_type": "execute_result"
    }
   ],
   "source": [
    "dff[\"Type\"].unique()"
   ]
  },
  {
   "cell_type": "code",
   "execution_count": 12,
   "id": "1ee337f0",
   "metadata": {},
   "outputs": [
    {
     "data": {
      "text/plain": [
       "500"
      ]
     },
     "execution_count": 12,
     "metadata": {},
     "output_type": "execute_result"
    }
   ],
   "source": [
    "dff[\"Type\"].count()"
   ]
  },
  {
   "cell_type": "code",
   "execution_count": 13,
   "id": "f955b45b",
   "metadata": {},
   "outputs": [
    {
     "data": {
      "text/plain": [
       "Photo     426\n",
       "Status     45\n",
       "Link       22\n",
       "Video       7\n",
       "Name: Type, dtype: int64"
      ]
     },
     "execution_count": 13,
     "metadata": {},
     "output_type": "execute_result"
    }
   ],
   "source": [
    "dff[\"Type\"].value_counts()"
   ]
  },
  {
   "cell_type": "code",
   "execution_count": 14,
   "id": "5f5fd733",
   "metadata": {},
   "outputs": [],
   "source": [
    "photo = 426 / 500\n",
    "\n",
    "photo_percent = photo * 100\n",
    "\n",
    "status = 45 / 500\n",
    "\n",
    "status_percent = status * 100\n",
    "\n",
    "link = 22 / 500\n",
    "\n",
    "link_percent = link * 100\n",
    "\n",
    "video = 7 / 500\n",
    "\n",
    "video_percent = video * 100"
   ]
  },
  {
   "cell_type": "code",
   "execution_count": 15,
   "id": "9e33eb94",
   "metadata": {},
   "outputs": [
    {
     "data": {
      "text/plain": [
       "1.4000000000000001"
      ]
     },
     "execution_count": 15,
     "metadata": {},
     "output_type": "execute_result"
    }
   ],
   "source": [
    "video_percent"
   ]
  },
  {
   "cell_type": "code",
   "execution_count": 16,
   "id": "ba1a005a",
   "metadata": {},
   "outputs": [
    {
     "data": {
      "image/png": "[encoded data removed]",
      "text/plain": [
       "<Figure size 640x480 with 1 Axes>"
      ]
     },
     "metadata": {},
     "output_type": "display_data"
    }
   ],
   "source": [
    "import matplotlib.pyplot as plt\n",
    "\n",
    "labels= ['Photos', 'Status', 'Links', 'Videos']\n",
    "\n",
    "colors=['blue', 'yellow', 'green', 'orange']\n",
    "\n",
    "sizes= [photo_percent, status_percent, link_percent, video_percent]\n",
    "\n",
    "plt.pie(sizes,labels=labels, colors=colors, startangle=180, pctdistance=1, labeldistance=1.2)\n",
    "\n",
    "labels = [f'{l}, {s:1.1f}%' for l, s in zip(labels, sizes)]\n",
    "plt.legend(bbox_to_anchor=(0.85, 1), loc='upper left', labels=labels)\n",
    "\n",
    "plt.axis('equal')\n",
    "\n",
    "plt.show()\n"
   ]
  },
  {
   "cell_type": "markdown",
   "id": "4dd65b30",
   "metadata": {},
   "source": [
    "<font color = blue> Answer  \n",
    "**Photos = 85.2%**  \n",
    "**Status = 9%**  \n",
    "**Links = 4.4%**  \n",
    "**Videos = 1.4%**  "
   ]
  },
  {
   "cell_type": "markdown",
   "id": "f47afeb9",
   "metadata": {},
   "source": [
    "## Question 2.4"
   ]
  },
  {
   "cell_type": "markdown",
   "id": "64a4fe35",
   "metadata": {},
   "source": [
    "**Calculate the percentage of posts per month**"
   ]
  },
  {
   "cell_type": "code",
   "execution_count": 17,
   "id": "f73d26e3",
   "metadata": {},
   "outputs": [
    {
     "data": {
      "text/plain": [
       "array([12, 11, 10,  9,  8,  7,  6,  5,  4,  3,  2,  1], dtype=int64)"
      ]
     },
     "execution_count": 17,
     "metadata": {},
     "output_type": "execute_result"
    }
   ],
   "source": [
    "dff[\"Post_Month\"].unique()"
   ]
  },
  {
   "cell_type": "code",
   "execution_count": 18,
   "id": "f0dc084c",
   "metadata": {},
   "outputs": [
    {
     "name": "stdout",
     "output_type": "stream",
     "text": [
      "10    60\n",
      "7     52\n",
      "12    50\n",
      "4     50\n",
      "6     49\n",
      "11    45\n",
      "5     37\n",
      "9     36\n",
      "3     36\n",
      "8     34\n",
      "2     26\n",
      "1     25\n",
      "Name: Post_Month, dtype: int64\n"
     ]
    }
   ],
   "source": [
    "values = dff['Post_Month'].value_counts()\n",
    "print(values)"
   ]
  },
  {
   "cell_type": "code",
   "execution_count": 19,
   "id": "0fc5f800",
   "metadata": {},
   "outputs": [
    {
     "name": "stdout",
     "output_type": "stream",
     "text": [
      "10    12.0\n",
      "7     10.4\n",
      "12    10.0\n",
      "4     10.0\n",
      "6      9.8\n",
      "11     9.0\n",
      "5      7.4\n",
      "9      7.2\n",
      "3      7.2\n",
      "8      6.8\n",
      "2      5.2\n",
      "1      5.0\n",
      "Name: Post_Month, dtype: float64\n"
     ]
    }
   ],
   "source": [
    "values = dff['Post_Month'].value_counts()\n",
    "\n",
    "totals = dff['Post_Month'].count()\n",
    "\n",
    "frequency = values/totals * 100\n",
    "\n",
    "print(frequency)"
   ]
  },
  {
   "cell_type": "code",
   "execution_count": 20,
   "id": "abfccbcd",
   "metadata": {},
   "outputs": [
    {
     "data": {
      "text/plain": [
       "Text(0, 0.5, 'Percentage')"
      ]
     },
     "execution_count": 20,
     "metadata": {},
     "output_type": "execute_result"
    },
    {
     "data": {
      "image/png": "[encoded data removed]",
      "text/plain": [
       "<Figure size 640x480 with 1 Axes>"
      ]
     },
     "metadata": {},
     "output_type": "display_data"
    }
   ],
   "source": [
    "import matplotlib.ticker as mtick\n",
    "\n",
    "ax = frequency.plot(kind='bar')\n",
    "ax.yaxis.set_major_formatter(mtick.PercentFormatter())\n",
    "\n",
    "plt.title(\"Average Monthly Posts\")\n",
    "plt.xlabel(\"Monthly Posts\")\n",
    "plt.xticks(rotation=0)\n",
    "plt.ylabel(\"Percentage\")"
   ]
  },
  {
   "cell_type": "markdown",
   "id": "1abc51b1",
   "metadata": {},
   "source": [
    "<font color = blue> Answer  \n",
    "**10 Posts    12%**  \n",
    "**7 Posts     10.4%**\n",
    "**12 Posts    10.0%**  \n",
    "**4 Posts     10.0%**  \n",
    "**6 Posts     9.8%**\n",
    "**11 Posts    9.0%**\n",
    "**5 Posts     7.4%**  \n",
    "**9 Posts     7.2%**  \n",
    "**3 Posts     7.2%**  \n",
    "**8 Posts     6.8%**  \n",
    "**2 Posts     5.2%**  \n",
    "**1 Posts     5.0%**"
   ]
  },
  {
   "cell_type": "markdown",
   "id": "67939aa3",
   "metadata": {},
   "source": [
    "## Question 2.5"
   ]
  },
  {
   "cell_type": "markdown",
   "id": "f132e89a",
   "metadata": {},
   "source": [
    "**It is important to understand the audience to take actions in future. Determine whether there is a\n",
    "significant variation in the lifetime engaged users**"
   ]
  },
  {
   "cell_type": "markdown",
   "id": "08b1890d",
   "metadata": {},
   "source": [
    "<font color = blue> In statistics, variance measures variability from the average or mean. It is calculated by taking the differences between each number in the data set and the mean, then squaring the differences to make them positive, and finally dividing the sum of the squares by the number of values in the data set\n",
    "\n",
    "    \n",
    "**The variance is the average of the squared deviations from the mean, i.e., var = mean(x) , where x = abs(a - a. mean())**2 . The mean is typically calculated as x. sum() / N , where N = len(x)**"
   ]
  },
  {
   "attachments": {
    "Variance%20-2.png": {
     "image/png": "[encoded data removed]"
    }
   },
   "cell_type": "markdown",
   "id": "cbe117fd",
   "metadata": {},
   "source": [
    "![Variance%20-2.png](attachment:Variance%20-2.png)"
   ]
  },
  {
   "cell_type": "code",
   "execution_count": 21,
   "id": "7ec07b4e",
   "metadata": {},
   "outputs": [
    {
     "name": "stdout",
     "output_type": "stream",
     "text": [
      "970752.9309619239\n"
     ]
    }
   ],
   "source": [
    "print(dff.var()['Lifetime_Engaged_Users'])"
   ]
  },
  {
   "cell_type": "code",
   "execution_count": 22,
   "id": "5c69e2a0",
   "metadata": {},
   "outputs": [
    {
     "data": {
      "text/plain": [
       "<bound method Series.to_string of 0       178\n",
       "1      1457\n",
       "2       177\n",
       "3      2211\n",
       "4       671\n",
       "       ... \n",
       "495     733\n",
       "496     537\n",
       "497     625\n",
       "498     626\n",
       "499     564\n",
       "Name: Lifetime_Engaged_Users, Length: 500, dtype: int64>"
      ]
     },
     "execution_count": 22,
     "metadata": {},
     "output_type": "execute_result"
    }
   ],
   "source": [
    "dff['Lifetime_Engaged_Users'].to_string"
   ]
  },
  {
   "cell_type": "code",
   "execution_count": 23,
   "id": "bede2fb1",
   "metadata": {},
   "outputs": [
    {
     "name": "stdout",
     "output_type": "stream",
     "text": [
      "970752.9309619238\n"
     ]
    }
   ],
   "source": [
    "\n",
    "Mean = dff['Lifetime_Engaged_Users'].mean()\n",
    "n=500\n",
    "\n",
    "dev = dff[\"Lifetime_Engaged_Users\"] = dff[\"Lifetime_Engaged_Users\"].apply(lambda x :x - Mean)\n",
    "\n",
    "dev2= np.square(dev)\n",
    "\n",
    "data = np.array(dev2)\n",
    "\n",
    "sum = data.sum()\n",
    "\n",
    "variance = sum/(n-1)\n",
    "print(variance)\n"
   ]
  },
  {
   "cell_type": "code",
   "execution_count": 24,
   "id": "05fdc724",
   "metadata": {},
   "outputs": [
    {
     "name": "stdout",
     "output_type": "stream",
     "text": [
      "985.2679488149017\n"
     ]
    }
   ],
   "source": [
    "import math \n",
    "  \n",
    "\n",
    "standard_deviation =(math.sqrt(variance)) \n",
    "print(standard_deviation)"
   ]
  },
  {
   "cell_type": "markdown",
   "id": "bbdd3576",
   "metadata": {},
   "source": [
    "<font color = blue> Answer  \n",
    "**Variance = 970752.9309619238**  \n",
    "**Standard Deviation = 985.2679488149017**  "
   ]
  },
  {
   "cell_type": "markdown",
   "id": "155da005",
   "metadata": {},
   "source": [
    "## Question 2.6"
   ]
  },
  {
   "cell_type": "markdown",
   "id": "2ca77427",
   "metadata": {},
   "source": [
    "**Calculate the number of likes reached by 50% of the sample. Identify the probability of finding up\n",
    "to 15 posts with that number of likes in a sample of 25 posts**"
   ]
  },
  {
   "cell_type": "markdown",
   "id": "6f21a25d",
   "metadata": {},
   "source": [
    "Discrete Random Probability"
   ]
  },
  {
   "cell_type": "code",
   "execution_count": 25,
   "id": "b06711c6",
   "metadata": {},
   "outputs": [
    {
     "data": {
      "text/plain": [
       "count     500.000000\n",
       "mean      177.990000\n",
       "std       323.076038\n",
       "min         0.000000\n",
       "25%        56.750000\n",
       "50%       101.000000\n",
       "75%       188.000000\n",
       "max      5172.000000\n",
       "Name: like, dtype: float64"
      ]
     },
     "execution_count": 25,
     "metadata": {},
     "output_type": "execute_result"
    }
   ],
   "source": [
    "dff['like'].describe()"
   ]
  },
  {
   "cell_type": "code",
   "execution_count": 26,
   "id": "c9608d46",
   "metadata": {},
   "outputs": [],
   "source": [
    "dfmedian = dff['like'].median()"
   ]
  },
  {
   "cell_type": "code",
   "execution_count": 27,
   "id": "04c5a040",
   "metadata": {},
   "outputs": [
    {
     "name": "stdout",
     "output_type": "stream",
     "text": [
      "101.0\n"
     ]
    }
   ],
   "source": [
    "print(dfmedian)"
   ]
  },
  {
   "cell_type": "code",
   "execution_count": 28,
   "id": "2322732f",
   "metadata": {},
   "outputs": [],
   "source": [
    "dfmax = dff['like'].max()"
   ]
  },
  {
   "cell_type": "code",
   "execution_count": 29,
   "id": "ba8c7cc9",
   "metadata": {},
   "outputs": [
    {
     "name": "stdout",
     "output_type": "stream",
     "text": [
      "5172\n"
     ]
    }
   ],
   "source": [
    "print(dfmax)"
   ]
  },
  {
   "cell_type": "code",
   "execution_count": 30,
   "id": "a968b321",
   "metadata": {},
   "outputs": [],
   "source": [
    "d = dff[['like']].values.tolist()\n"
   ]
  },
  {
   "cell_type": "code",
   "execution_count": 31,
   "id": "68d2ea5e",
   "metadata": {},
   "outputs": [],
   "source": [
    "import random\n",
    "\n",
    "r = (random.choices((d), k=25))"
   ]
  },
  {
   "cell_type": "code",
   "execution_count": 32,
   "id": "88a4e085",
   "metadata": {},
   "outputs": [
    {
     "name": "stdout",
     "output_type": "stream",
     "text": [
      "[[1505], [234], [32], [360], [117], [529], [56], [193], [286], [155], [0], [664], [146], [51], [80], [14], [61], [194], [155], [1639], [2], [5172], [187], [76], [159]]\n"
     ]
    }
   ],
   "source": [
    "print(r)"
   ]
  },
  {
   "cell_type": "code",
   "execution_count": 33,
   "id": "255f31e4",
   "metadata": {},
   "outputs": [],
   "source": [
    "random =[236, 35, 187, 62, 71, 164, 154, 325, 268, 249, 331, 163, 955, 53, 107, 86, 104, \n",
    "         113, 256, 94, 89, 47, 57, 154, 71]"
   ]
  },
  {
   "cell_type": "code",
   "execution_count": 34,
   "id": "f8c26785",
   "metadata": {},
   "outputs": [
    {
     "data": {
      "text/plain": [
       "15"
      ]
     },
     "execution_count": 34,
     "metadata": {},
     "output_type": "execute_result"
    }
   ],
   "source": [
    "x = [i for i in random if i>101]\n",
    "#value of x\n",
    "len(x)"
   ]
  },
  {
   "cell_type": "markdown",
   "id": "f9af776c",
   "metadata": {},
   "source": [
    "There are 15 values in this set that are 101 or over"
   ]
  },
  {
   "cell_type": "code",
   "execution_count": 35,
   "id": "0aa16072",
   "metadata": {},
   "outputs": [
    {
     "name": "stdout",
     "output_type": "stream",
     "text": [
      "60.0\n"
     ]
    }
   ],
   "source": [
    "Probability = 15/25*100\n",
    "print(Probability)"
   ]
  },
  {
   "cell_type": "code",
   "execution_count": 36,
   "id": "9f07e3c5",
   "metadata": {},
   "outputs": [
    {
     "name": "stdout",
     "output_type": "stream",
     "text": [
      "36.0\n"
     ]
    }
   ],
   "source": [
    "Probability15 = ((60*60)/100)\n",
    "print(Probability15)"
   ]
  },
  {
   "cell_type": "markdown",
   "id": "38a35ca5",
   "metadata": {},
   "source": [
    "<font color = blue> Answer  \n",
    "**36%**"
   ]
  },
  {
   "cell_type": "markdown",
   "id": "24edbcc7",
   "metadata": {},
   "source": [
    "## Question 2.7"
   ]
  },
  {
   "cell_type": "markdown",
   "id": "f326fc86",
   "metadata": {},
   "source": [
    "**Determine what is the type of post with more interactions**"
   ]
  },
  {
   "cell_type": "code",
   "execution_count": 37,
   "id": "0f2a7184",
   "metadata": {},
   "outputs": [],
   "source": [
    "df2= dff[['Type','Total_Interactions']]"
   ]
  },
  {
   "cell_type": "code",
   "execution_count": 38,
   "id": "6369e9de",
   "metadata": {},
   "outputs": [
    {
     "data": {
      "text/html": [
       "<div>\n",
       "<style scoped>\n",
       "    .dataframe tbody tr th:only-of-type {\n",
       "        vertical-align: middle;\n",
       "    }\n",
       "\n",
       "    .dataframe tbody tr th {\n",
       "        vertical-align: top;\n",
       "    }\n",
       "\n",
       "    .dataframe thead th {\n",
       "        text-align: right;\n",
       "    }\n",
       "</style>\n",
       "<table border=\"1\" class=\"dataframe\">\n",
       "  <thead>\n",
       "    <tr style=\"text-align: right;\">\n",
       "      <th></th>\n",
       "      <th>Type</th>\n",
       "      <th>Total_Interactions</th>\n",
       "    </tr>\n",
       "  </thead>\n",
       "  <tbody>\n",
       "    <tr>\n",
       "      <th>0</th>\n",
       "      <td>Photo</td>\n",
       "      <td>100</td>\n",
       "    </tr>\n",
       "    <tr>\n",
       "      <th>1</th>\n",
       "      <td>Status</td>\n",
       "      <td>164</td>\n",
       "    </tr>\n",
       "    <tr>\n",
       "      <th>2</th>\n",
       "      <td>Photo</td>\n",
       "      <td>80</td>\n",
       "    </tr>\n",
       "    <tr>\n",
       "      <th>3</th>\n",
       "      <td>Photo</td>\n",
       "      <td>1777</td>\n",
       "    </tr>\n",
       "    <tr>\n",
       "      <th>4</th>\n",
       "      <td>Photo</td>\n",
       "      <td>393</td>\n",
       "    </tr>\n",
       "  </tbody>\n",
       "</table>\n",
       "</div>"
      ],
      "text/plain": [
       "     Type  Total_Interactions\n",
       "0   Photo                 100\n",
       "1  Status                 164\n",
       "2   Photo                  80\n",
       "3   Photo                1777\n",
       "4   Photo                 393"
      ]
     },
     "execution_count": 38,
     "metadata": {},
     "output_type": "execute_result"
    }
   ],
   "source": [
    "df2.head()"
   ]
  },
  {
   "cell_type": "code",
   "execution_count": 39,
   "id": "41cac86e",
   "metadata": {},
   "outputs": [
    {
     "data": {
      "text/plain": [
       "Type\n",
       "Link       1959\n",
       "Photo     92263\n",
       "Status     9767\n",
       "Video      2071\n",
       "Name: Total_Interactions, dtype: int64"
      ]
     },
     "execution_count": 39,
     "metadata": {},
     "output_type": "execute_result"
    }
   ],
   "source": [
    "df_grouped = df2.groupby(by=\"Type\")[\"Total_Interactions\"].sum()\n",
    "\n",
    "df_grouped.head()\n"
   ]
  },
  {
   "cell_type": "code",
   "execution_count": 40,
   "id": "b3a481f0",
   "metadata": {},
   "outputs": [
    {
     "data": {
      "image/png": "[encoded data removed]",
      "text/plain": [
       "<Figure size 640x480 with 1 Axes>"
      ]
     },
     "metadata": {},
     "output_type": "display_data"
    }
   ],
   "source": [
    "Link = 1959\n",
    "Photo = 92263\n",
    "Status = 9767\n",
    "Video = 2071\n",
    "\n",
    "\n",
    "labels= ['Photos', 'Status', 'Links', 'Videos']\n",
    "\n",
    "colors=['yellow', 'pink', 'orange', 'blue']\n",
    "\n",
    "sizes= [Link, Photo, Status, Video]\n",
    "\n",
    "plt.pie(sizes,labels=labels, colors=colors, startangle=180, pctdistance=1, labeldistance=1.2)\n",
    "\n",
    "labels = [f'{l}, {s:1.0f}' for l, s in zip(labels, sizes)]\n",
    "plt.legend(bbox_to_anchor=(0.85, 1), loc='upper left', labels=labels)\n",
    "\n",
    "\n",
    "plt.axis('equal')\n",
    "\n",
    "plt.show()"
   ]
  },
  {
   "cell_type": "code",
   "execution_count": 41,
   "id": "87c8858b",
   "metadata": {},
   "outputs": [],
   "source": [
    "total =  dff['Total_Interactions'].sum()"
   ]
  },
  {
   "cell_type": "code",
   "execution_count": 42,
   "id": "1478c40b",
   "metadata": {},
   "outputs": [
    {
     "data": {
      "image/png": "[encoded data removed]",
      "text/plain": [
       "<Figure size 640x480 with 1 Axes>"
      ]
     },
     "metadata": {},
     "output_type": "display_data"
    }
   ],
   "source": [
    "total =  dff['Total_Interactions'].sum()\n",
    "Link_Perc = ((Link/total)*100)\n",
    "Photo_Perc= ((Photo/total)*100)\n",
    "Status_Perc = ((Status/total)*100)\n",
    "Video_Perc = ((Video/total)*100)\n",
    "\n",
    "\n",
    "labels= ['Photos', 'Status', 'Links', 'Videos']\n",
    "\n",
    "colors=['yellow', 'pink', 'orange', 'blue']\n",
    "\n",
    "sizes= [Link_Perc, Photo_Perc, Status_Perc, Video_Perc]\n",
    "\n",
    "plt.pie(sizes,labels=labels, colors=colors, startangle=180, pctdistance=1, labeldistance=1.2)\n",
    "\n",
    "labels = [f'{l}, {s:1.1f}%' for l, s in zip(labels, sizes)]\n",
    "plt.legend(bbox_to_anchor=(0.85, 1), loc='upper left', labels=labels)\n",
    "\n",
    "\n",
    "plt.axis('equal')\n",
    "\n",
    "plt.show()"
   ]
  },
  {
   "cell_type": "markdown",
   "id": "c91d8f32",
   "metadata": {},
   "source": [
    "<font color = blue>Answer  \n",
    "**Status is the type with the highest Interactions**  \n",
    "**Status = 87%**  \n",
    "**Links = 9.2%**  \n",
    "**Videos = 2%**    \n",
    "**Photos = 1.8%**"
   ]
  },
  {
   "cell_type": "markdown",
   "id": "b142c0d1",
   "metadata": {},
   "source": [
    "## Question 2.8"
   ]
  },
  {
   "cell_type": "markdown",
   "id": "59794945",
   "metadata": {},
   "source": [
    "**On average, are there more posts from consumers or consumptions?**"
   ]
  },
  {
   "cell_type": "code",
   "execution_count": 43,
   "id": "cf70dab7",
   "metadata": {},
   "outputs": [
    {
     "name": "stdout",
     "output_type": "stream",
     "text": [
      "798.772 1401.318\n"
     ]
    }
   ],
   "source": [
    "x = dff[\"Lifetime_Post_Consumers\"].mean()\n",
    "\n",
    "y  = dff[\"Lifetime_Post_Consumptions\"].mean()\n",
    "\n",
    "\n",
    "print(x, y)\n",
    "\n",
    "\n"
   ]
  },
  {
   "cell_type": "code",
   "execution_count": 44,
   "id": "1c60dd5e",
   "metadata": {},
   "outputs": [
    {
     "data": {
      "text/plain": [
       "<BarContainer object of 2 artists>"
      ]
     },
     "execution_count": 44,
     "metadata": {},
     "output_type": "execute_result"
    },
    {
     "data": {
      "image/png": "[encoded data removed]",
      "text/plain": [
       "<Figure size 640x480 with 1 Axes>"
      ]
     },
     "metadata": {},
     "output_type": "display_data"
    }
   ],
   "source": [
    "import matplotlib.pyplot as plt\n",
    "\n",
    "fig, ax  = plt.subplots()\n",
    "ax.bar([1,2], [798.772, 1401.318], width=1,\n",
    "       tick_label=['Consumers', 'Consumption'], align='center')"
   ]
  },
  {
   "cell_type": "markdown",
   "id": "1eb7ca27",
   "metadata": {},
   "source": [
    "<font color = blue>Answer    \n",
    "**On average, there are more posts from Consumptions rather than Consumers**  "
   ]
  },
  {
   "cell_type": "code",
   "execution_count": null,
   "id": "cdb6545d",
   "metadata": {},
   "outputs": [],
   "source": []
  }
 ],
 "metadata": {
  "kernelspec": {
   "display_name": "Python 3 (ipykernel)",
   "language": "python",
   "name": "python3"
  },
  "language_info": {
   "codemirror_mode": {
    "name": "ipython",
    "version": 3
   },
   "file_extension": ".py",
   "mimetype": "text/x-python",
   "name": "python",
   "nbconvert_exporter": "python",
   "pygments_lexer": "ipython3",
   "version": "3.11.4"
  }
 },
 "nbformat": 4,
 "nbformat_minor": 5
}
